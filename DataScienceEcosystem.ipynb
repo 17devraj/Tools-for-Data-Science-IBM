{
  "nbformat": 4,
  "nbformat_minor": 0,
  "metadata": {
    "colab": {
      "provenance": []
    },
    "kernelspec": {
      "name": "python3",
      "display_name": "Python 3"
    },
    "language_info": {
      "name": "python"
    }
  },
  "cells": [
    {
      "cell_type": "markdown",
      "source": [
        "#Tools for Data Science"
      ],
      "metadata": {
        "id": "GBEy7dFKJOmx"
      }
    },
    {
      "cell_type": "markdown",
      "source": [
        "In this notebook, Tools for Data Science are summarized"
      ],
      "metadata": {
        "id": "ZF9x6mgxLJnH"
      }
    },
    {
      "cell_type": "markdown",
      "source": [
        "Some of the popular languages that data scientists are use:\n",
        "1. Python\n",
        "2. R\n",
        "3. SQL\n",
        "4. C++\n",
        "5. Java etc.;"
      ],
      "metadata": {
        "id": "eKisfQctL9at"
      }
    },
    {
      "cell_type": "markdown",
      "source": [
        "Some of the commonly used libraries used by Data scientists include:\n",
        "1. Tensorflow\n",
        "2. Numpy\n",
        "3. Scipy\n",
        "4. Pandas\n",
        "5. Matplotlib\n",
        "6. Keras\n",
        "7. SciKit-Learn\n",
        "8. PyTorch etc.;\n"
      ],
      "metadata": {
        "id": "Hn6ZeOtLOZ33"
      }
    },
    {
      "cell_type": "markdown",
      "source": [
        "|Data Science Tools|\n",
        "|---|\n",
        "|SAS|\n",
        "|Anaconda|\n",
        "|Jupyter Notebooks|\n",
        "|Apache Hadoop|\n",
        "|TensorFlow|"
      ],
      "metadata": {
        "id": "bn9IG2H-PNg9"
      }
    },
    {
      "cell_type": "markdown",
      "source": [
        "# Below are the few examples of evaluating Arithmatic Expressions in Python\n",
        "\n"
      ],
      "metadata": {
        "id": "CjKyS6dAYYF5"
      }
    },
    {
      "cell_type": "code",
      "execution_count": 1,
      "metadata": {
        "colab": {
          "base_uri": "https://localhost:8080/"
        },
        "id": "frPKfTZ7JF52",
        "outputId": "a2ad7ed5-5946-4380-b81c-9099f8e8a397"
      },
      "outputs": [
        {
          "output_type": "execute_result",
          "data": {
            "text/plain": [
              "17"
            ]
          },
          "metadata": {},
          "execution_count": 1
        }
      ],
      "source": [
        "#this is a common arithmatic example to multiply than add the integers\n",
        "(3*4)+5"
      ]
    },
    {
      "cell_type": "code",
      "source": [
        "#This will convert 200 mintues to hours by dividing with 60\n",
        "200/60"
      ],
      "metadata": {
        "colab": {
          "base_uri": "https://localhost:8080/"
        },
        "id": "yz5WB8l9YovX",
        "outputId": "c13f6511-00a0-40a7-b921-edea833f51f3"
      },
      "execution_count": 2,
      "outputs": [
        {
          "output_type": "execute_result",
          "data": {
            "text/plain": [
              "3.3333333333333335"
            ]
          },
          "metadata": {},
          "execution_count": 2
        }
      ]
    },
    {
      "cell_type": "markdown",
      "source": [
        "__Objectives__\n",
        "* Create markdown cells\n",
        "* List popular languages for Data Science\n",
        "* List popular libraries for Data Science\n",
        "* List Data Science Tools\n",
        "* Provide comment in the cell"
      ],
      "metadata": {
        "id": "JCexSbaVZGp9"
      }
    },
    {
      "cell_type": "markdown",
      "source": [
        "# Author\n",
        "Devraj Parmar"
      ],
      "metadata": {
        "id": "JNq35mfXZmsl"
      }
    },
    {
      "cell_type": "code",
      "source": [],
      "metadata": {
        "id": "D0Qb4SQ1Yzgn"
      },
      "execution_count": null,
      "outputs": []
    }
  ]
}